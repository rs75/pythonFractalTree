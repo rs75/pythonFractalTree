{
 "cells": [
  {
   "cell_type": "markdown",
   "metadata": {},
   "source": [
    "## Fractal Tree with Python"
   ]
  },
  {
   "cell_type": "code",
   "execution_count": 1,
   "metadata": {},
   "outputs": [],
   "source": [
    "import turtle\n",
    "import numpy as np\n",
    "\n",
    "def tree(branchLen,t):\n",
    "    if branchLen >=15:        \n",
    "        t.pensize(int(branchLen/12))\n",
    "        if branchLen == 120:\n",
    "            t.pensize(15) \n",
    "        if branchLen == 105:\n",
    "            t.pensize(11)\n",
    "            \n",
    "        angle = np.random.randint(15,40)\n",
    "        #draw branch\n",
    "        t.forward(branchLen)\n",
    "        #create 2 branches recursively\n",
    "        t.right(angle)\n",
    "        tree(branchLen-15,t)\n",
    "        t.left(2*angle)\n",
    "        tree(branchLen-15,t)\n",
    "        t.right(angle)\n",
    "        t.backward(branchLen)\n",
    "\n",
    "def main():\n",
    "    t = turtle.Turtle()\n",
    "    t.speed(1000)\n",
    "    myWin = turtle.Screen()\n",
    "    \n",
    "    # move cursur to start position\n",
    "    t.left(90)\n",
    "    t.penup()\n",
    "    t.setx(0)\n",
    "    t.sety(-200)\n",
    "    t.pendown()\n",
    "    t.color(\"black\")\n",
    "    \n",
    "    #draw tree\n",
    "    tree(120,t)\n",
    "    myWin.exitonclick()\n",
    "\n",
    "main()\n",
    "\n"
   ]
  },
  {
   "cell_type": "markdown",
   "metadata": {},
   "source": [
    "### Result"
   ]
  },
  {
   "cell_type": "markdown",
   "metadata": {},
   "source": [
    "![Image](tree.png)"
   ]
  },
  {
   "cell_type": "code",
   "execution_count": null,
   "metadata": {},
   "outputs": [],
   "source": []
  }
 ],
 "metadata": {
  "kernelspec": {
   "display_name": "Python 3",
   "language": "python",
   "name": "python3"
  },
  "language_info": {
   "codemirror_mode": {
    "name": "ipython",
    "version": 3
   },
   "file_extension": ".py",
   "mimetype": "text/x-python",
   "name": "python",
   "nbconvert_exporter": "python",
   "pygments_lexer": "ipython3",
   "version": "3.6.0"
  }
 },
 "nbformat": 4,
 "nbformat_minor": 2
}
